{
 "cells": [
  {
   "cell_type": "code",
   "execution_count": 1,
   "metadata": {},
   "outputs": [
    {
     "name": "stderr",
     "output_type": "stream",
     "text": [
      "Using TensorFlow backend.\n"
     ]
    }
   ],
   "source": [
    "%matplotlib inline\n",
    "import numpy as np\n",
    "from keras.models import Sequential\n",
    "from keras.layers import Dense\n",
    "from keras.utils import np_utils\n",
    "import matplotlib.pyplot as plt\n",
    "from pprint import pprint"
   ]
  },
  {
   "cell_type": "code",
   "execution_count": 2,
   "metadata": {
    "collapsed": true
   },
   "outputs": [],
   "source": [
    "train = np.loadtxt('train.csv', delimiter=',', skiprows=1)\n",
    "test = np.loadtxt('test.csv', delimiter=',', skiprows=1)"
   ]
  },
  {
   "cell_type": "code",
   "execution_count": 3,
   "metadata": {
    "collapsed": true
   },
   "outputs": [],
   "source": [
    "# сохраняем разметку в отдельную переменную\n",
    "train_label = train[:, 0]\n",
    "# приводим размерность к удобному для обаботки виду\n",
    "train_img = train[:, 1:]"
   ]
  },
  {
   "cell_type": "code",
   "execution_count": 4,
   "metadata": {
    "collapsed": true
   },
   "outputs": [],
   "source": [
    "from sklearn.model_selection import train_test_split\n",
    "X_train, X_test, y_train, y_test = train_test_split(\n",
    "    train_img, train_label, test_size=0.2, random_state=42)"
   ]
  },
  {
   "cell_type": "code",
   "execution_count": 5,
   "metadata": {
    "collapsed": true
   },
   "outputs": [],
   "source": [
    "X_train = X_train.astype('float32')\n",
    "X_test = X_test.astype('float32')\n",
    "X_train /= 255\n",
    "X_test /= 255"
   ]
  },
  {
   "cell_type": "code",
   "execution_count": 6,
   "metadata": {
    "collapsed": true
   },
   "outputs": [],
   "source": [
    "y_train = np_utils.to_categorical(y_train, 10)"
   ]
  },
  {
   "cell_type": "code",
   "execution_count": 7,
   "metadata": {},
   "outputs": [
    {
     "data": {
      "text/plain": [
       "array([ 0.,  0.,  0.,  0.,  0.,  0.,  1.,  0.,  0.,  0.])"
      ]
     },
     "execution_count": 7,
     "metadata": {},
     "output_type": "execute_result"
    }
   ],
   "source": [
    "y_train[0]"
   ]
  },
  {
   "cell_type": "code",
   "execution_count": 8,
   "metadata": {
    "collapsed": true
   },
   "outputs": [],
   "source": [
    "model = Sequential()"
   ]
  },
  {
   "cell_type": "code",
   "execution_count": 9,
   "metadata": {
    "collapsed": true
   },
   "outputs": [],
   "source": [
    "model.add(Dense(1000, input_dim=784, kernel_initializer='normal', activation='relu'))\n",
    "model.add(Dense(10, kernel_initializer='normal', activation=\"softmax\"))"
   ]
  },
  {
   "cell_type": "code",
   "execution_count": 10,
   "metadata": {
    "collapsed": true
   },
   "outputs": [],
   "source": [
    "model.compile(loss=\"categorical_crossentropy\",optimizer=\"SGD\",metrics=[\"accuracy\"])"
   ]
  },
  {
   "cell_type": "code",
   "execution_count": 11,
   "metadata": {
    "scrolled": true
   },
   "outputs": [
    {
     "name": "stdout",
     "output_type": "stream",
     "text": [
      "_________________________________________________________________\n",
      "Layer (type)                 Output Shape              Param #   \n",
      "=================================================================\n",
      "dense_1 (Dense)              (None, 1000)              785000    \n",
      "_________________________________________________________________\n",
      "dense_2 (Dense)              (None, 10)                10010     \n",
      "=================================================================\n",
      "Total params: 795,010\n",
      "Trainable params: 795,010\n",
      "Non-trainable params: 0\n",
      "_________________________________________________________________\n"
     ]
    }
   ],
   "source": [
    "model.summary()"
   ]
  },
  {
   "cell_type": "code",
   "execution_count": 13,
   "metadata": {
    "scrolled": true
   },
   "outputs": [
    {
     "name": "stdout",
     "output_type": "stream",
     "text": [
      "Epoch 1/100\n",
      "33600/33600 [==============================] - 3s - loss: 0.3843 - acc: 0.8992     - ETA: 1s - loss: 0.3\n",
      "Epoch 2/100\n",
      "33600/33600 [==============================] - 4s - loss: 0.3663 - acc: 0.9027     \n",
      "Epoch 3/100\n",
      "33600/33600 [==============================] - 3s - loss: 0.3517 - acc: 0.9052     \n",
      "Epoch 4/100\n",
      "33600/33600 [==============================] - 3s - loss: 0.3392 - acc: 0.9082     \n",
      "Epoch 5/100\n",
      "33600/33600 [==============================] - 3s - loss: 0.3286 - acc: 0.9110     \n",
      "Epoch 6/100\n",
      "33600/33600 [==============================] - 3s - loss: 0.3192 - acc: 0.9129     \n",
      "Epoch 7/100\n",
      "33600/33600 [==============================] - 3s - loss: 0.3108 - acc: 0.9154     \n",
      "Epoch 8/100\n",
      "33600/33600 [==============================] - 3s - loss: 0.3035 - acc: 0.9167     \n",
      "Epoch 9/100\n",
      "33600/33600 [==============================] - 3s - loss: 0.2967 - acc: 0.9192     \n",
      "Epoch 10/100\n",
      "33600/33600 [==============================] - 3s - loss: 0.2904 - acc: 0.9210     \n",
      "Epoch 11/100\n",
      "33600/33600 [==============================] - 3s - loss: 0.2848 - acc: 0.9220     \n",
      "Epoch 12/100\n",
      "33600/33600 [==============================] - 3s - loss: 0.2794 - acc: 0.9232     \n",
      "Epoch 13/100\n",
      "33600/33600 [==============================] - 3s - loss: 0.2744 - acc: 0.9244     \n",
      "Epoch 14/100\n",
      "33600/33600 [==============================] - 4s - loss: 0.2697 - acc: 0.9255     \n",
      "Epoch 15/100\n",
      "33600/33600 [==============================] - 4s - loss: 0.2652 - acc: 0.9270     \n",
      "Epoch 16/100\n",
      "33600/33600 [==============================] - 3s - loss: 0.2611 - acc: 0.9281     \n",
      "Epoch 17/100\n",
      "33600/33600 [==============================] - 4s - loss: 0.2571 - acc: 0.9293     \n",
      "Epoch 18/100\n",
      "33600/33600 [==============================] - 4s - loss: 0.2534 - acc: 0.9303     \n",
      "Epoch 19/100\n",
      "33600/33600 [==============================] - 4s - loss: 0.2497 - acc: 0.9315     \n",
      "Epoch 20/100\n",
      "33600/33600 [==============================] - 4s - loss: 0.2461 - acc: 0.9323     \n",
      "Epoch 21/100\n",
      "33600/33600 [==============================] - 4s - loss: 0.2427 - acc: 0.9335     \n",
      "Epoch 22/100\n",
      "33600/33600 [==============================] - 3s - loss: 0.2397 - acc: 0.9340     \n",
      "Epoch 23/100\n",
      "33600/33600 [==============================] - 3s - loss: 0.2365 - acc: 0.9347     \n",
      "Epoch 24/100\n",
      "33600/33600 [==============================] - 3s - loss: 0.2335 - acc: 0.9353     \n",
      "Epoch 25/100\n",
      "33600/33600 [==============================] - 3s - loss: 0.2307 - acc: 0.9369     - ETA: 0s - loss: 0.2297 -\n",
      "Epoch 26/100\n",
      "33600/33600 [==============================] - 3s - loss: 0.2279 - acc: 0.9376     - ETA: 1s - loss: 0.22\n",
      "Epoch 27/100\n",
      "33600/33600 [==============================] - 3s - loss: 0.2251 - acc: 0.9383     \n",
      "Epoch 28/100\n",
      "33600/33600 [==============================] - 3s - loss: 0.2225 - acc: 0.9387     \n",
      "Epoch 29/100\n",
      "33600/33600 [==============================] - 3s - loss: 0.2199 - acc: 0.9396     \n",
      "Epoch 30/100\n",
      "33600/33600 [==============================] - 3s - loss: 0.2174 - acc: 0.9407     \n",
      "Epoch 31/100\n",
      "33600/33600 [==============================] - 3s - loss: 0.2149 - acc: 0.9410     \n",
      "Epoch 32/100\n",
      "33600/33600 [==============================] - 3s - loss: 0.2127 - acc: 0.9417     \n",
      "Epoch 33/100\n",
      "33600/33600 [==============================] - 3s - loss: 0.2104 - acc: 0.9421     - ETA: 0s - loss: 0.2127 - acc\n",
      "Epoch 34/100\n",
      "33600/33600 [==============================] - 3s - loss: 0.2081 - acc: 0.9427     \n",
      "Epoch 35/100\n",
      "33600/33600 [==============================] - 3s - loss: 0.2059 - acc: 0.9432     \n",
      "Epoch 36/100\n",
      "33600/33600 [==============================] - 3s - loss: 0.2037 - acc: 0.9446     \n",
      "Epoch 37/100\n",
      "33600/33600 [==============================] - 4s - loss: 0.2017 - acc: 0.9444     \n",
      "Epoch 38/100\n",
      "33600/33600 [==============================] - 4s - loss: 0.1996 - acc: 0.9455     \n",
      "Epoch 39/100\n",
      "33600/33600 [==============================] - 4s - loss: 0.1977 - acc: 0.9459     \n",
      "Epoch 40/100\n",
      "33600/33600 [==============================] - 4s - loss: 0.1957 - acc: 0.9458     \n",
      "Epoch 41/100\n",
      "33600/33600 [==============================] - 4s - loss: 0.1938 - acc: 0.9469     \n",
      "Epoch 42/100\n",
      "33600/33600 [==============================] - 4s - loss: 0.1919 - acc: 0.9472     \n",
      "Epoch 43/100\n",
      "33600/33600 [==============================] - 4s - loss: 0.1900 - acc: 0.9485     \n",
      "Epoch 44/100\n",
      "33600/33600 [==============================] - 4s - loss: 0.1882 - acc: 0.9483     \n",
      "Epoch 45/100\n",
      "33600/33600 [==============================] - 4s - loss: 0.1864 - acc: 0.9493     \n",
      "Epoch 46/100\n",
      "33600/33600 [==============================] - 4s - loss: 0.1847 - acc: 0.9495     \n",
      "Epoch 47/100\n",
      "33600/33600 [==============================] - 4s - loss: 0.1830 - acc: 0.9499     \n",
      "Epoch 48/100\n",
      "33600/33600 [==============================] - 4s - loss: 0.1813 - acc: 0.9505     \n",
      "Epoch 49/100\n",
      "33600/33600 [==============================] - 4s - loss: 0.1796 - acc: 0.9510     \n",
      "Epoch 50/100\n",
      "33600/33600 [==============================] - 4s - loss: 0.1780 - acc: 0.9515     \n",
      "Epoch 51/100\n",
      "33600/33600 [==============================] - 4s - loss: 0.1764 - acc: 0.9521     \n",
      "Epoch 52/100\n",
      "33600/33600 [==============================] - 4s - loss: 0.1749 - acc: 0.9527     \n",
      "Epoch 53/100\n",
      "33600/33600 [==============================] - 4s - loss: 0.1733 - acc: 0.9526     \n",
      "Epoch 54/100\n",
      "33600/33600 [==============================] - 4s - loss: 0.1718 - acc: 0.9536     \n",
      "Epoch 55/100\n",
      "33600/33600 [==============================] - 4s - loss: 0.1703 - acc: 0.9538     \n",
      "Epoch 56/100\n",
      "33600/33600 [==============================] - 4s - loss: 0.1689 - acc: 0.9545     \n",
      "Epoch 57/100\n",
      "33600/33600 [==============================] - 4s - loss: 0.1673 - acc: 0.9547     \n",
      "Epoch 58/100\n",
      "33600/33600 [==============================] - 4s - loss: 0.1660 - acc: 0.9550     \n",
      "Epoch 59/100\n",
      "33600/33600 [==============================] - 4s - loss: 0.1646 - acc: 0.9557     \n",
      "Epoch 60/100\n",
      "33600/33600 [==============================] - 4s - loss: 0.1633 - acc: 0.9562     \n",
      "Epoch 61/100\n",
      "33600/33600 [==============================] - 4s - loss: 0.1619 - acc: 0.9565     \n",
      "Epoch 62/100\n",
      "33600/33600 [==============================] - 4s - loss: 0.1606 - acc: 0.9568     \n",
      "Epoch 63/100\n",
      "33600/33600 [==============================] - 4s - loss: 0.1592 - acc: 0.9573     \n",
      "Epoch 64/100\n",
      "33600/33600 [==============================] - 4s - loss: 0.1579 - acc: 0.9578     \n",
      "Epoch 65/100\n",
      "33600/33600 [==============================] - 4s - loss: 0.1566 - acc: 0.9579     \n",
      "Epoch 66/100\n",
      "33600/33600 [==============================] - 4s - loss: 0.1554 - acc: 0.9586     \n",
      "Epoch 67/100\n",
      "33600/33600 [==============================] - 4s - loss: 0.1542 - acc: 0.9588     \n",
      "Epoch 68/100\n",
      "33600/33600 [==============================] - 4s - loss: 0.1530 - acc: 0.9594     \n",
      "Epoch 69/100\n",
      "33600/33600 [==============================] - 4s - loss: 0.1518 - acc: 0.9594     \n",
      "Epoch 70/100\n",
      "33600/33600 [==============================] - 4s - loss: 0.1506 - acc: 0.9599     \n",
      "Epoch 71/100\n",
      "33600/33600 [==============================] - 4s - loss: 0.1494 - acc: 0.9601     \n",
      "Epoch 72/100\n",
      "33600/33600 [==============================] - 4s - loss: 0.1483 - acc: 0.9603     \n",
      "Epoch 73/100\n",
      "33600/33600 [==============================] - 4s - loss: 0.1471 - acc: 0.9610     \n",
      "Epoch 74/100\n",
      "33600/33600 [==============================] - 4s - loss: 0.1461 - acc: 0.9610     \n",
      "Epoch 75/100\n",
      "33600/33600 [==============================] - 4s - loss: 0.1449 - acc: 0.9617     \n",
      "Epoch 76/100\n",
      "33600/33600 [==============================] - 4s - loss: 0.1439 - acc: 0.9618     \n",
      "Epoch 77/100\n",
      "33600/33600 [==============================] - 4s - loss: 0.1428 - acc: 0.9618     \n",
      "Epoch 78/100\n",
      "33600/33600 [==============================] - 4s - loss: 0.1418 - acc: 0.9624     \n",
      "Epoch 79/100\n",
      "33600/33600 [==============================] - 4s - loss: 0.1407 - acc: 0.9626     \n",
      "Epoch 80/100\n",
      "33600/33600 [==============================] - 4s - loss: 0.1397 - acc: 0.9626     \n",
      "Epoch 81/100\n",
      "33600/33600 [==============================] - 4s - loss: 0.1387 - acc: 0.9631     \n",
      "Epoch 82/100\n",
      "33600/33600 [==============================] - 4s - loss: 0.1377 - acc: 0.9634     \n",
      "Epoch 83/100\n",
      "33600/33600 [==============================] - 4s - loss: 0.1367 - acc: 0.9637     \n",
      "Epoch 84/100\n"
     ]
    },
    {
     "name": "stdout",
     "output_type": "stream",
     "text": [
      "33600/33600 [==============================] - 3s - loss: 0.1357 - acc: 0.9635     - ETA: 3s - loss: 0.1315 - acc\n",
      "Epoch 85/100\n",
      "33600/33600 [==============================] - 3s - loss: 0.1347 - acc: 0.9645     \n",
      "Epoch 86/100\n",
      "33600/33600 [==============================] - 3s - loss: 0.1338 - acc: 0.9643     \n",
      "Epoch 87/100\n",
      "33600/33600 [==============================] - 4s - loss: 0.1328 - acc: 0.9645     \n",
      "Epoch 88/100\n",
      "33600/33600 [==============================] - 3s - loss: 0.1320 - acc: 0.9651     \n",
      "Epoch 89/100\n",
      "33600/33600 [==============================] - 4s - loss: 0.1311 - acc: 0.9649     \n",
      "Epoch 90/100\n",
      "33600/33600 [==============================] - 4s - loss: 0.1302 - acc: 0.9655     \n",
      "Epoch 91/100\n",
      "33600/33600 [==============================] - 4s - loss: 0.1292 - acc: 0.9655     \n",
      "Epoch 92/100\n",
      "33600/33600 [==============================] - 4s - loss: 0.1284 - acc: 0.9659     \n",
      "Epoch 93/100\n",
      "33600/33600 [==============================] - 4s - loss: 0.1275 - acc: 0.9665     \n",
      "Epoch 94/100\n",
      "33600/33600 [==============================] - 3s - loss: 0.1266 - acc: 0.9664     \n",
      "Epoch 95/100\n",
      "33600/33600 [==============================] - 3s - loss: 0.1258 - acc: 0.9667     \n",
      "Epoch 96/100\n",
      "33600/33600 [==============================] - 3s - loss: 0.1249 - acc: 0.9671     \n",
      "Epoch 97/100\n",
      "33600/33600 [==============================] - 4s - loss: 0.1241 - acc: 0.9672     \n",
      "Epoch 98/100\n",
      "33600/33600 [==============================] - 3s - loss: 0.1233 - acc: 0.9677     \n",
      "Epoch 99/100\n",
      "33600/33600 [==============================] - 4s - loss: 0.1225 - acc: 0.9677     \n",
      "Epoch 100/100\n",
      "33600/33600 [==============================] - 3s - loss: 0.1217 - acc: 0.9680     \n"
     ]
    },
    {
     "data": {
      "text/plain": [
       "<keras.callbacks.History at 0x7f300eb71f28>"
      ]
     },
     "execution_count": 13,
     "metadata": {},
     "output_type": "execute_result"
    }
   ],
   "source": [
    "model.fit(X_train,y_train, batch_size=200,epochs=100,verbose=1)"
   ]
  },
  {
   "cell_type": "code",
   "execution_count": 14,
   "metadata": {},
   "outputs": [
    {
     "name": "stdout",
     "output_type": "stream",
     "text": [
      "8256/8400 [============================>.] - ETA: 0s"
     ]
    }
   ],
   "source": [
    "predictions = model.predict_classes(X_test)"
   ]
  },
  {
   "cell_type": "code",
   "execution_count": 15,
   "metadata": {
    "collapsed": true
   },
   "outputs": [],
   "source": [
    "from sklearn.metrics import accuracy_score"
   ]
  },
  {
   "cell_type": "code",
   "execution_count": 16,
   "metadata": {
    "scrolled": true
   },
   "outputs": [
    {
     "data": {
      "text/plain": [
       "0.9553571428571429"
      ]
     },
     "execution_count": 16,
     "metadata": {},
     "output_type": "execute_result"
    }
   ],
   "source": [
    "accuracy_score(y_test,predictions)"
   ]
  },
  {
   "cell_type": "code",
   "execution_count": 17,
   "metadata": {
    "collapsed": true
   },
   "outputs": [],
   "source": [
    "Y = np_utils.to_categorical(train_label)"
   ]
  },
  {
   "cell_type": "code",
   "execution_count": 18,
   "metadata": {
    "collapsed": true
   },
   "outputs": [],
   "source": [
    "train_img = train_img.astype('float32')\n",
    "train_img /= 255"
   ]
  },
  {
   "cell_type": "code",
   "execution_count": 19,
   "metadata": {},
   "outputs": [
    {
     "data": {
      "text/plain": [
       "array([ 0.,  1.,  0.,  0.,  0.,  0.,  0.,  0.,  0.,  0.])"
      ]
     },
     "execution_count": 19,
     "metadata": {},
     "output_type": "execute_result"
    }
   ],
   "source": [
    "Y[0]"
   ]
  },
  {
   "cell_type": "code",
   "execution_count": 20,
   "metadata": {
    "collapsed": true
   },
   "outputs": [],
   "source": [
    "model = Sequential()"
   ]
  },
  {
   "cell_type": "code",
   "execution_count": 21,
   "metadata": {},
   "outputs": [],
   "source": [
    "model.add(Dense(1000, input_dim=784, kernel_initializer='normal', activation='relu'))\n",
    "model.add(Dense(1000, kernel_initializer='normal',activation='relu'))\n",
    "model.add(Dense(10, kernel_initializer='normal', activation=\"softmax\"))"
   ]
  },
  {
   "cell_type": "code",
   "execution_count": 22,
   "metadata": {},
   "outputs": [],
   "source": [
    "model.compile(loss=\"categorical_crossentropy\",optimizer=\"SGD\",metrics=[\"accuracy\"])"
   ]
  },
  {
   "cell_type": "code",
   "execution_count": 23,
   "metadata": {
    "scrolled": true
   },
   "outputs": [
    {
     "name": "stdout",
     "output_type": "stream",
     "text": [
      "_________________________________________________________________\n",
      "Layer (type)                 Output Shape              Param #   \n",
      "=================================================================\n",
      "dense_3 (Dense)              (None, 1000)              785000    \n",
      "_________________________________________________________________\n",
      "dense_4 (Dense)              (None, 1000)              1001000   \n",
      "_________________________________________________________________\n",
      "dense_5 (Dense)              (None, 10)                10010     \n",
      "=================================================================\n",
      "Total params: 1,796,010\n",
      "Trainable params: 1,796,010\n",
      "Non-trainable params: 0\n",
      "_________________________________________________________________\n"
     ]
    }
   ],
   "source": [
    "model.summary()"
   ]
  },
  {
   "cell_type": "code",
   "execution_count": 24,
   "metadata": {
    "scrolled": true
   },
   "outputs": [
    {
     "name": "stdout",
     "output_type": "stream",
     "text": [
      "Epoch 1/25\n",
      "42000/42000 [==============================] - 30s - loss: 0.4354 - acc: 0.8824    \n",
      "Epoch 2/25\n",
      "42000/42000 [==============================] - 29s - loss: 0.2256 - acc: 0.9361    \n",
      "Epoch 3/25\n",
      "42000/42000 [==============================] - 29s - loss: 0.1771 - acc: 0.9499    \n",
      "Epoch 4/25\n",
      "42000/42000 [==============================] - 30s - loss: 0.1462 - acc: 0.9596    \n",
      "Epoch 5/25\n",
      "42000/42000 [==============================] - 30s - loss: 0.1238 - acc: 0.9665    \n",
      "Epoch 6/25\n",
      "42000/42000 [==============================] - 30s - loss: 0.1070 - acc: 0.9712    \n",
      "Epoch 7/25\n",
      "42000/42000 [==============================] - 30s - loss: 0.0940 - acc: 0.9749    \n",
      "Epoch 8/25\n",
      "42000/42000 [==============================] - 30s - loss: 0.0832 - acc: 0.9778    \n",
      "Epoch 9/25\n",
      "42000/42000 [==============================] - 30s - loss: 0.0736 - acc: 0.9811    - ETA: 0s - loss: 0.0738 - acc:\n",
      "Epoch 10/25\n",
      "42000/42000 [==============================] - 29s - loss: 0.0662 - acc: 0.9831    \n",
      "Epoch 11/25\n",
      "42000/42000 [==============================] - 31s - loss: 0.0596 - acc: 0.9849    \n",
      "Epoch 12/25\n",
      "42000/42000 [==============================] - 31s - loss: 0.0538 - acc: 0.9863    \n",
      "Epoch 13/25\n",
      "42000/42000 [==============================] - 33s - loss: 0.0485 - acc: 0.9884    \n",
      "Epoch 14/25\n",
      "42000/42000 [==============================] - 30s - loss: 0.0441 - acc: 0.9898    \n",
      "Epoch 15/25\n",
      "42000/42000 [==============================] - 31s - loss: 0.0399 - acc: 0.9908    \n",
      "Epoch 16/25\n",
      "42000/42000 [==============================] - 31s - loss: 0.0364 - acc: 0.9916    \n",
      "Epoch 17/25\n",
      "42000/42000 [==============================] - 31s - loss: 0.0333 - acc: 0.9927    \n",
      "Epoch 18/25\n",
      "42000/42000 [==============================] - 31s - loss: 0.0302 - acc: 0.9938    \n",
      "Epoch 19/25\n",
      "42000/42000 [==============================] - 31s - loss: 0.0277 - acc: 0.9950    \n",
      "Epoch 20/25\n",
      "42000/42000 [==============================] - 31s - loss: 0.0254 - acc: 0.9955    \n",
      "Epoch 21/25\n",
      "42000/42000 [==============================] - 31s - loss: 0.0234 - acc: 0.9957    \n",
      "Epoch 22/25\n",
      "42000/42000 [==============================] - 31s - loss: 0.0214 - acc: 0.9966    \n",
      "Epoch 23/25\n",
      "42000/42000 [==============================] - 31s - loss: 0.0198 - acc: 0.9970    \n",
      "Epoch 24/25\n",
      "42000/42000 [==============================] - 32s - loss: 0.0182 - acc: 0.9974    \n",
      "Epoch 25/25\n",
      "42000/42000 [==============================] - 25s - loss: 0.0168 - acc: 0.9980    \n"
     ]
    },
    {
     "data": {
      "text/plain": [
       "<keras.callbacks.History at 0x7f300c2a0128>"
      ]
     },
     "execution_count": 24,
     "metadata": {},
     "output_type": "execute_result"
    }
   ],
   "source": [
    "model.fit(train_img,Y, batch_size=25,epochs=25,verbose=1)"
   ]
  },
  {
   "cell_type": "code",
   "execution_count": 25,
   "metadata": {
    "collapsed": true
   },
   "outputs": [],
   "source": [
    "test = test.astype('float32')\n",
    "test /= 255"
   ]
  },
  {
   "cell_type": "code",
   "execution_count": 26,
   "metadata": {
    "scrolled": true
   },
   "outputs": [
    {
     "name": "stdout",
     "output_type": "stream",
     "text": [
      "27680/28000 [============================>.] - ETA: 0s"
     ]
    }
   ],
   "source": [
    "predictions = model.predict_classes(test)"
   ]
  },
  {
   "cell_type": "code",
   "execution_count": 27,
   "metadata": {
    "collapsed": true
   },
   "outputs": [],
   "source": [
    "!rm submit.txt"
   ]
  },
  {
   "cell_type": "code",
   "execution_count": 28,
   "metadata": {
    "collapsed": true
   },
   "outputs": [],
   "source": [
    "with open('submit.txt', 'w') as dst:\n",
    "    dst.write('ImageId,Label\\n')\n",
    "    for i, p in enumerate(predictions, 1):\n",
    "        dst.write('%s,%s\\n' % (i, p))"
   ]
  },
  {
   "cell_type": "code",
   "execution_count": 30,
   "metadata": {},
   "outputs": [
    {
     "data": {
      "image/png": "[encoded data removed]",
      "text/plain": [
       "<IPython.core.display.Image object>"
      ]
     },
     "execution_count": 30,
     "metadata": {},
     "output_type": "execute_result"
    }
   ],
   "source": [
    "from IPython.display import Image\n",
    "Image(filename='Screenshot.png')"
   ]
  },
  {
   "cell_type": "code",
   "execution_count": null,
   "metadata": {
    "collapsed": true
   },
   "outputs": [],
   "source": []
  }
 ],
 "metadata": {
  "kernelspec": {
   "display_name": "Python 3",
   "language": "python",
   "name": "python3"
  },
  "language_info": {
   "codemirror_mode": {
    "name": "ipython",
    "version": 3
   },
   "file_extension": ".py",
   "mimetype": "text/x-python",
   "name": "python",
   "nbconvert_exporter": "python",
   "pygments_lexer": "ipython3",
   "version": "3.6.1"
  }
 },
 "nbformat": 4,
 "nbformat_minor": 2
}
